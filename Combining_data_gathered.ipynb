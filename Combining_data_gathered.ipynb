{
 "cells": [
  {
   "cell_type": "code",
   "execution_count": 1,
   "id": "7dc4935d",
   "metadata": {},
   "outputs": [],
   "source": [
    "import pandas as pd\n",
    "import numpy as np"
   ]
  },
  {
   "cell_type": "code",
   "execution_count": 4,
   "id": "cce85ced",
   "metadata": {},
   "outputs": [],
   "source": [
    "df1 = pd.read_csv(\"Mobile_phones.csv\")\n",
    "df2 = pd.read_csv(\"Head_phones.csv\")\n",
    "df3 = pd.read_csv(\"grooming_accesories.csv\")\n",
    "df4 = pd.read_csv(\"Computer_accesories.csv\")\n",
    "df5 = pd.read_csv(\"Electronic_accesories.csv\")"
   ]
  },
  {
   "cell_type": "code",
   "execution_count": 7,
   "id": "a8bc3b85",
   "metadata": {},
   "outputs": [],
   "source": [
    "df1[\"categories\"]='Mobile_phones'\n",
    "df2[\"categories\"]='Headphones'\n",
    "df3[\"categories\"]='grooming_accesories'\n",
    "df4[\"categories\"]='Computer_Accesories'\n",
    "df5[\"categories\"]='Electronic_Accesories'"
   ]
  },
  {
   "cell_type": "code",
   "execution_count": 13,
   "id": "d9b5a3e8",
   "metadata": {},
   "outputs": [
    {
     "data": {
      "text/html": [
       "<div>\n",
       "<style scoped>\n",
       "    .dataframe tbody tr th:only-of-type {\n",
       "        vertical-align: middle;\n",
       "    }\n",
       "\n",
       "    .dataframe tbody tr th {\n",
       "        vertical-align: top;\n",
       "    }\n",
       "\n",
       "    .dataframe thead th {\n",
       "        text-align: right;\n",
       "    }\n",
       "</style>\n",
       "<table border=\"1\" class=\"dataframe\">\n",
       "  <thead>\n",
       "    <tr style=\"text-align: right;\">\n",
       "      <th></th>\n",
       "      <th>Name</th>\n",
       "      <th>price</th>\n",
       "      <th>Discount</th>\n",
       "      <th>Unnamed: 3</th>\n",
       "      <th>categories</th>\n",
       "    </tr>\n",
       "  </thead>\n",
       "  <tbody>\n",
       "    <tr>\n",
       "      <th>0</th>\n",
       "      <td>OPPO F19 6 GB 128 GB Prism Black</td>\n",
       "      <td>19490.0</td>\n",
       "      <td>-7%</td>\n",
       "      <td>NaN</td>\n",
       "      <td>Mobile_phones</td>\n",
       "    </tr>\n",
       "    <tr>\n",
       "      <th>1</th>\n",
       "      <td>OPPO A54 4 GB 64 GB Crystal Black</td>\n",
       "      <td>14178.0</td>\n",
       "      <td>-5%</td>\n",
       "      <td>NaN</td>\n",
       "      <td>Mobile_phones</td>\n",
       "    </tr>\n",
       "    <tr>\n",
       "      <th>2</th>\n",
       "      <td>Redmi 9 4 GB 64 GB Sky Blue</td>\n",
       "      <td>10449.0</td>\n",
       "      <td>-5%</td>\n",
       "      <td>NaN</td>\n",
       "      <td>Mobile_phones</td>\n",
       "    </tr>\n",
       "    <tr>\n",
       "      <th>3</th>\n",
       "      <td>Vivo Y20i 3 GB 64 GB Nebula Blue</td>\n",
       "      <td>11490.0</td>\n",
       "      <td>-26%</td>\n",
       "      <td>NaN</td>\n",
       "      <td>Mobile_phones</td>\n",
       "    </tr>\n",
       "    <tr>\n",
       "      <th>4</th>\n",
       "      <td>OPPO A54 6 GB 128 GB Crystal Black</td>\n",
       "      <td>16990.0</td>\n",
       "      <td>-6%</td>\n",
       "      <td>NaN</td>\n",
       "      <td>Mobile_phones</td>\n",
       "    </tr>\n",
       "  </tbody>\n",
       "</table>\n",
       "</div>"
      ],
      "text/plain": [
       "                                 Name    price  Discount   Unnamed: 3  \\\n",
       "0    OPPO F19 6 GB 128 GB Prism Black  19490.0        -7%         NaN   \n",
       "1   OPPO A54 4 GB 64 GB Crystal Black  14178.0        -5%         NaN   \n",
       "2         Redmi 9 4 GB 64 GB Sky Blue  10449.0        -5%         NaN   \n",
       "3    Vivo Y20i 3 GB 64 GB Nebula Blue  11490.0       -26%         NaN   \n",
       "4  OPPO A54 6 GB 128 GB Crystal Black  16990.0        -6%         NaN   \n",
       "\n",
       "      categories  \n",
       "0  Mobile_phones  \n",
       "1  Mobile_phones  \n",
       "2  Mobile_phones  \n",
       "3  Mobile_phones  \n",
       "4  Mobile_phones  "
      ]
     },
     "execution_count": 13,
     "metadata": {},
     "output_type": "execute_result"
    }
   ],
   "source": [
    "df1.head()"
   ]
  },
  {
   "cell_type": "code",
   "execution_count": 15,
   "id": "db94f915",
   "metadata": {},
   "outputs": [],
   "source": [
    "df1.drop([\"Unnamed: 3\"], inplace=True, axis=1)"
   ]
  },
  {
   "cell_type": "code",
   "execution_count": 16,
   "id": "fd07bf7b",
   "metadata": {},
   "outputs": [
    {
     "data": {
      "text/html": [
       "<div>\n",
       "<style scoped>\n",
       "    .dataframe tbody tr th:only-of-type {\n",
       "        vertical-align: middle;\n",
       "    }\n",
       "\n",
       "    .dataframe tbody tr th {\n",
       "        vertical-align: top;\n",
       "    }\n",
       "\n",
       "    .dataframe thead th {\n",
       "        text-align: right;\n",
       "    }\n",
       "</style>\n",
       "<table border=\"1\" class=\"dataframe\">\n",
       "  <thead>\n",
       "    <tr style=\"text-align: right;\">\n",
       "      <th></th>\n",
       "      <th>Name</th>\n",
       "      <th>price</th>\n",
       "      <th>Discount</th>\n",
       "      <th>categories</th>\n",
       "    </tr>\n",
       "  </thead>\n",
       "  <tbody>\n",
       "    <tr>\n",
       "      <th>0</th>\n",
       "      <td>OPPO F19 6 GB 128 GB Prism Black</td>\n",
       "      <td>19490.0</td>\n",
       "      <td>-7%</td>\n",
       "      <td>Mobile_phones</td>\n",
       "    </tr>\n",
       "    <tr>\n",
       "      <th>1</th>\n",
       "      <td>OPPO A54 4 GB 64 GB Crystal Black</td>\n",
       "      <td>14178.0</td>\n",
       "      <td>-5%</td>\n",
       "      <td>Mobile_phones</td>\n",
       "    </tr>\n",
       "    <tr>\n",
       "      <th>2</th>\n",
       "      <td>Redmi 9 4 GB 64 GB Sky Blue</td>\n",
       "      <td>10449.0</td>\n",
       "      <td>-5%</td>\n",
       "      <td>Mobile_phones</td>\n",
       "    </tr>\n",
       "    <tr>\n",
       "      <th>3</th>\n",
       "      <td>Vivo Y20i 3 GB 64 GB Nebula Blue</td>\n",
       "      <td>11490.0</td>\n",
       "      <td>-26%</td>\n",
       "      <td>Mobile_phones</td>\n",
       "    </tr>\n",
       "    <tr>\n",
       "      <th>4</th>\n",
       "      <td>OPPO A54 6 GB 128 GB Crystal Black</td>\n",
       "      <td>16990.0</td>\n",
       "      <td>-6%</td>\n",
       "      <td>Mobile_phones</td>\n",
       "    </tr>\n",
       "  </tbody>\n",
       "</table>\n",
       "</div>"
      ],
      "text/plain": [
       "                                 Name    price  Discount      categories\n",
       "0    OPPO F19 6 GB 128 GB Prism Black  19490.0        -7%  Mobile_phones\n",
       "1   OPPO A54 4 GB 64 GB Crystal Black  14178.0        -5%  Mobile_phones\n",
       "2         Redmi 9 4 GB 64 GB Sky Blue  10449.0        -5%  Mobile_phones\n",
       "3    Vivo Y20i 3 GB 64 GB Nebula Blue  11490.0       -26%  Mobile_phones\n",
       "4  OPPO A54 6 GB 128 GB Crystal Black  16990.0        -6%  Mobile_phones"
      ]
     },
     "execution_count": 16,
     "metadata": {},
     "output_type": "execute_result"
    }
   ],
   "source": [
    "df1.head()"
   ]
  },
  {
   "cell_type": "code",
   "execution_count": 25,
   "id": "870bdfec",
   "metadata": {},
   "outputs": [],
   "source": [
    "df= pd.concat([df1,df2,df3,df4,df5],axis=0)"
   ]
  },
  {
   "cell_type": "code",
   "execution_count": 26,
   "id": "c8c827e9",
   "metadata": {},
   "outputs": [
    {
     "data": {
      "text/plain": [
       "(161, 4)"
      ]
     },
     "execution_count": 26,
     "metadata": {},
     "output_type": "execute_result"
    }
   ],
   "source": [
    "df.shape"
   ]
  },
  {
   "cell_type": "code",
   "execution_count": 27,
   "id": "7b23c2c3",
   "metadata": {},
   "outputs": [],
   "source": [
    "df.to_csv(\"Final_data_to_analyze.csv\", index=False)"
   ]
  },
  {
   "cell_type": "code",
   "execution_count": null,
   "id": "31d13e57",
   "metadata": {},
   "outputs": [],
   "source": []
  }
 ],
 "metadata": {
  "kernelspec": {
   "display_name": "Python 3",
   "language": "python",
   "name": "python3"
  },
  "language_info": {
   "codemirror_mode": {
    "name": "ipython",
    "version": 3
   },
   "file_extension": ".py",
   "mimetype": "text/x-python",
   "name": "python",
   "nbconvert_exporter": "python",
   "pygments_lexer": "ipython3",
   "version": "3.8.8"
  }
 },
 "nbformat": 4,
 "nbformat_minor": 5
}
