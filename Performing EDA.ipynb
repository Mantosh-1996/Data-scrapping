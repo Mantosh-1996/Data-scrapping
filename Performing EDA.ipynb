{
 "cells": [
  {
   "cell_type": "code",
   "execution_count": 37,
   "id": "feb0d8da",
   "metadata": {},
   "outputs": [],
   "source": [
    "import pandas as pd\n",
    "import numpy as np\n",
    "import seaborn as sns\n",
    "import matplotlib.pyplot as plt"
   ]
  },
  {
   "cell_type": "code",
   "execution_count": 2,
   "id": "552531d3",
   "metadata": {},
   "outputs": [],
   "source": [
    "df=pd.read_csv(\"Final_data_to_analyze.csv\")"
   ]
  },
  {
   "cell_type": "code",
   "execution_count": 3,
   "id": "9797041d",
   "metadata": {},
   "outputs": [
    {
     "data": {
      "text/html": [
       "<div>\n",
       "<style scoped>\n",
       "    .dataframe tbody tr th:only-of-type {\n",
       "        vertical-align: middle;\n",
       "    }\n",
       "\n",
       "    .dataframe tbody tr th {\n",
       "        vertical-align: top;\n",
       "    }\n",
       "\n",
       "    .dataframe thead th {\n",
       "        text-align: right;\n",
       "    }\n",
       "</style>\n",
       "<table border=\"1\" class=\"dataframe\">\n",
       "  <thead>\n",
       "    <tr style=\"text-align: right;\">\n",
       "      <th></th>\n",
       "      <th>Name</th>\n",
       "      <th>Price</th>\n",
       "      <th>Discount</th>\n",
       "      <th>categories</th>\n",
       "    </tr>\n",
       "  </thead>\n",
       "  <tbody>\n",
       "    <tr>\n",
       "      <th>0</th>\n",
       "      <td>OPPO F19 6 GB 128 GB Prism Black</td>\n",
       "      <td>19490.0</td>\n",
       "      <td>-7%</td>\n",
       "      <td>Mobile_phones</td>\n",
       "    </tr>\n",
       "    <tr>\n",
       "      <th>1</th>\n",
       "      <td>OPPO A54 4 GB 64 GB Crystal Black</td>\n",
       "      <td>14178.0</td>\n",
       "      <td>-5%</td>\n",
       "      <td>Mobile_phones</td>\n",
       "    </tr>\n",
       "    <tr>\n",
       "      <th>2</th>\n",
       "      <td>Redmi 9 4 GB 64 GB Sky Blue</td>\n",
       "      <td>10449.0</td>\n",
       "      <td>-5%</td>\n",
       "      <td>Mobile_phones</td>\n",
       "    </tr>\n",
       "    <tr>\n",
       "      <th>3</th>\n",
       "      <td>Vivo Y20i 3 GB 64 GB Nebula Blue</td>\n",
       "      <td>11490.0</td>\n",
       "      <td>-26%</td>\n",
       "      <td>Mobile_phones</td>\n",
       "    </tr>\n",
       "    <tr>\n",
       "      <th>4</th>\n",
       "      <td>OPPO A54 6 GB 128 GB Crystal Black</td>\n",
       "      <td>16990.0</td>\n",
       "      <td>-6%</td>\n",
       "      <td>Mobile_phones</td>\n",
       "    </tr>\n",
       "  </tbody>\n",
       "</table>\n",
       "</div>"
      ],
      "text/plain": [
       "                                 Name    Price Discount      categories\n",
       "0    OPPO F19 6 GB 128 GB Prism Black  19490.0       -7%  Mobile_phones\n",
       "1   OPPO A54 4 GB 64 GB Crystal Black  14178.0       -5%  Mobile_phones\n",
       "2         Redmi 9 4 GB 64 GB Sky Blue  10449.0       -5%  Mobile_phones\n",
       "3    Vivo Y20i 3 GB 64 GB Nebula Blue  11490.0      -26%  Mobile_phones\n",
       "4  OPPO A54 6 GB 128 GB Crystal Black  16990.0       -6%  Mobile_phones"
      ]
     },
     "execution_count": 3,
     "metadata": {},
     "output_type": "execute_result"
    }
   ],
   "source": [
    "df.head()"
   ]
  },
  {
   "cell_type": "code",
   "execution_count": 4,
   "id": "4b39987e",
   "metadata": {},
   "outputs": [
    {
     "name": "stdout",
     "output_type": "stream",
     "text": [
      "<class 'pandas.core.frame.DataFrame'>\n",
      "RangeIndex: 161 entries, 0 to 160\n",
      "Data columns (total 4 columns):\n",
      " #   Column      Non-Null Count  Dtype  \n",
      "---  ------      --------------  -----  \n",
      " 0   Name        160 non-null    object \n",
      " 1   Price       160 non-null    float64\n",
      " 2   Discount    154 non-null    object \n",
      " 3   categories  161 non-null    object \n",
      "dtypes: float64(1), object(3)\n",
      "memory usage: 5.2+ KB\n"
     ]
    }
   ],
   "source": [
    "df.info()"
   ]
  },
  {
   "cell_type": "markdown",
   "id": "d168b6b6",
   "metadata": {},
   "source": [
    "## Analyzing/Dropping Null values"
   ]
  },
  {
   "cell_type": "code",
   "execution_count": 6,
   "id": "ed2a0f90",
   "metadata": {},
   "outputs": [
    {
     "data": {
      "text/plain": [
       "Name          0\n",
       "Price         0\n",
       "Discount      6\n",
       "categories    0\n",
       "dtype: int64"
      ]
     },
     "execution_count": 6,
     "metadata": {},
     "output_type": "execute_result"
    }
   ],
   "source": [
    "df.isnull().sum()"
   ]
  },
  {
   "cell_type": "code",
   "execution_count": null,
   "id": "56abdbcd",
   "metadata": {},
   "outputs": [],
   "source": [
    "df.dropna(subset=['Name', 'Price'], inplace=True)"
   ]
  },
  {
   "cell_type": "code",
   "execution_count": 7,
   "id": "dc326d10",
   "metadata": {},
   "outputs": [
    {
     "data": {
      "text/plain": [
       "Index(['Name', 'Price', 'Discount ', 'categories'], dtype='object')"
      ]
     },
     "execution_count": 7,
     "metadata": {},
     "output_type": "execute_result"
    }
   ],
   "source": [
    "df.columns"
   ]
  },
  {
   "cell_type": "code",
   "execution_count": 8,
   "id": "30e0a576",
   "metadata": {},
   "outputs": [],
   "source": [
    "df.rename(columns={'Discount ':'Discount'},inplace=True)"
   ]
  },
  {
   "cell_type": "code",
   "execution_count": 9,
   "id": "a98c68f6",
   "metadata": {},
   "outputs": [
    {
     "data": {
      "text/plain": [
       "Name          0\n",
       "Price         0\n",
       "Discount      6\n",
       "categories    0\n",
       "dtype: int64"
      ]
     },
     "execution_count": 9,
     "metadata": {},
     "output_type": "execute_result"
    }
   ],
   "source": [
    "df.isnull().sum()"
   ]
  },
  {
   "cell_type": "code",
   "execution_count": 10,
   "id": "34ab6967",
   "metadata": {},
   "outputs": [
    {
     "data": {
      "text/plain": [
       "Index(['Name', 'Price', 'Discount', 'categories'], dtype='object')"
      ]
     },
     "execution_count": 10,
     "metadata": {},
     "output_type": "execute_result"
    }
   ],
   "source": [
    "df.columns"
   ]
  },
  {
   "cell_type": "code",
   "execution_count": 11,
   "id": "e98cb07e",
   "metadata": {},
   "outputs": [],
   "source": [
    "df[df.Discount.isnull()]\n",
    "df.Discount.fillna(\"0\", inplace=True)"
   ]
  },
  {
   "cell_type": "code",
   "execution_count": 12,
   "id": "31c918e7",
   "metadata": {},
   "outputs": [
    {
     "data": {
      "text/plain": [
       "0"
      ]
     },
     "execution_count": 12,
     "metadata": {},
     "output_type": "execute_result"
    }
   ],
   "source": [
    "df.Discount.isnull().sum()"
   ]
  },
  {
   "cell_type": "markdown",
   "id": "d317fa2a",
   "metadata": {},
   "source": [
    "## Adding Features of the Phones to a new column"
   ]
  },
  {
   "cell_type": "code",
   "execution_count": 13,
   "id": "848c2083",
   "metadata": {},
   "outputs": [],
   "source": [
    "df[\"feature_of_phone\"]= \"NA\""
   ]
  },
  {
   "cell_type": "code",
   "execution_count": 14,
   "id": "ec6b7229",
   "metadata": {},
   "outputs": [],
   "source": [
    "df[\"feature_of_phone\"]=df.Name.apply(lambda x: ' '.join(x.split(' ')[2:7]))"
   ]
  },
  {
   "cell_type": "code",
   "execution_count": 15,
   "id": "a901046f",
   "metadata": {},
   "outputs": [],
   "source": [
    "df.loc[~(df['categories']==\"Mobile_phones\"), \"feature_of_phone\"]='NA'"
   ]
  },
  {
   "cell_type": "code",
   "execution_count": 16,
   "id": "9a1dddc5",
   "metadata": {},
   "outputs": [
    {
     "data": {
      "text/plain": [
       "NA                                  128\n",
       "5G 6 GB 128 GB                        2\n",
       "Pro 8 GB 256 GB                       2\n",
       "Note 20 8 GB 256                      1\n",
       "A52 6 GB 128 GB                       1\n",
       "1b 4 GB 64 GB                         1\n",
       "4 GB 64 GB Crystal                    1\n",
       "Pro 12 GB 256 GB                      1\n",
       "4 GB 64 GB Sky                        1\n",
       "12 GB 256 GB Glacial                  1\n",
       "A22 6 GB 128 GB                       1\n",
       "11 128 GB Green(Without Earphone      1\n",
       "2021 2 GB 32 GB                       1\n",
       "7 2 GB 32 GB                          1\n",
       "3 GB 64 GB Nebula                     1\n",
       "M31 6 GB 128 GB                       1\n",
       "3 GB 32 GB Phantom                    1\n",
       "3 GB 32 GB (Arctic                    1\n",
       "6 GB 128 GB Prism                     1\n",
       "8 GB 128 GB Midday                    1\n",
       "5G 8 GB 256 GB                        1\n",
       "6 GB 128 GB Crystal                   1\n",
       "4 GB 64 GB Obsidian                   1\n",
       "2 GB 32 GB Midnight                   1\n",
       "4 GB 64 GB Purist                     1\n",
       "Pro 6 GB 128 GB                       1\n",
       "2 GB 32 GB Sea                        1\n",
       "Z6 4 GB 64 GB                         1\n",
       "4 GB 128 GB Watery                    1\n",
       "8 GB 128 GB Glacial                   1\n",
       "4 GB 64 GB Diamond                    1\n",
       "Name: feature_of_phone, dtype: int64"
      ]
     },
     "execution_count": 16,
     "metadata": {},
     "output_type": "execute_result"
    }
   ],
   "source": [
    "df.feature_of_phone.value_counts()"
   ]
  },
  {
   "cell_type": "code",
   "execution_count": 17,
   "id": "12791269",
   "metadata": {},
   "outputs": [
    {
     "data": {
      "text/html": [
       "<div>\n",
       "<style scoped>\n",
       "    .dataframe tbody tr th:only-of-type {\n",
       "        vertical-align: middle;\n",
       "    }\n",
       "\n",
       "    .dataframe tbody tr th {\n",
       "        vertical-align: top;\n",
       "    }\n",
       "\n",
       "    .dataframe thead th {\n",
       "        text-align: right;\n",
       "    }\n",
       "</style>\n",
       "<table border=\"1\" class=\"dataframe\">\n",
       "  <thead>\n",
       "    <tr style=\"text-align: right;\">\n",
       "      <th></th>\n",
       "      <th>Name</th>\n",
       "      <th>Price</th>\n",
       "      <th>Discount</th>\n",
       "      <th>categories</th>\n",
       "      <th>feature_of_phone</th>\n",
       "    </tr>\n",
       "  </thead>\n",
       "  <tbody>\n",
       "    <tr>\n",
       "      <th>0</th>\n",
       "      <td>OPPO F19 6 GB 128 GB Prism Black</td>\n",
       "      <td>19490.0</td>\n",
       "      <td>-7%</td>\n",
       "      <td>Mobile_phones</td>\n",
       "      <td>6 GB 128 GB Prism</td>\n",
       "    </tr>\n",
       "    <tr>\n",
       "      <th>1</th>\n",
       "      <td>OPPO A54 4 GB 64 GB Crystal Black</td>\n",
       "      <td>14178.0</td>\n",
       "      <td>-5%</td>\n",
       "      <td>Mobile_phones</td>\n",
       "      <td>4 GB 64 GB Crystal</td>\n",
       "    </tr>\n",
       "    <tr>\n",
       "      <th>2</th>\n",
       "      <td>Redmi 9 4 GB 64 GB Sky Blue</td>\n",
       "      <td>10449.0</td>\n",
       "      <td>-5%</td>\n",
       "      <td>Mobile_phones</td>\n",
       "      <td>4 GB 64 GB Sky</td>\n",
       "    </tr>\n",
       "    <tr>\n",
       "      <th>3</th>\n",
       "      <td>Vivo Y20i 3 GB 64 GB Nebula Blue</td>\n",
       "      <td>11490.0</td>\n",
       "      <td>-26%</td>\n",
       "      <td>Mobile_phones</td>\n",
       "      <td>3 GB 64 GB Nebula</td>\n",
       "    </tr>\n",
       "    <tr>\n",
       "      <th>4</th>\n",
       "      <td>OPPO A54 6 GB 128 GB Crystal Black</td>\n",
       "      <td>16990.0</td>\n",
       "      <td>-6%</td>\n",
       "      <td>Mobile_phones</td>\n",
       "      <td>6 GB 128 GB Crystal</td>\n",
       "    </tr>\n",
       "  </tbody>\n",
       "</table>\n",
       "</div>"
      ],
      "text/plain": [
       "                                 Name    Price Discount     categories  \\\n",
       "0    OPPO F19 6 GB 128 GB Prism Black  19490.0      -7%  Mobile_phones   \n",
       "1   OPPO A54 4 GB 64 GB Crystal Black  14178.0      -5%  Mobile_phones   \n",
       "2         Redmi 9 4 GB 64 GB Sky Blue  10449.0      -5%  Mobile_phones   \n",
       "3    Vivo Y20i 3 GB 64 GB Nebula Blue  11490.0     -26%  Mobile_phones   \n",
       "4  OPPO A54 6 GB 128 GB Crystal Black  16990.0      -6%  Mobile_phones   \n",
       "\n",
       "      feature_of_phone  \n",
       "0    6 GB 128 GB Prism  \n",
       "1   4 GB 64 GB Crystal  \n",
       "2       4 GB 64 GB Sky  \n",
       "3    3 GB 64 GB Nebula  \n",
       "4  6 GB 128 GB Crystal  "
      ]
     },
     "execution_count": 17,
     "metadata": {},
     "output_type": "execute_result"
    }
   ],
   "source": [
    "df.head()"
   ]
  },
  {
   "cell_type": "code",
   "execution_count": null,
   "id": "f8b1d69a",
   "metadata": {},
   "outputs": [],
   "source": []
  },
  {
   "cell_type": "code",
   "execution_count": 18,
   "id": "63cf4998",
   "metadata": {},
   "outputs": [],
   "source": [
    "df[\"feature_of_phone\"]= df[\"feature_of_phone\"].apply(lambda x: x.replace('(', ''))"
   ]
  },
  {
   "cell_type": "code",
   "execution_count": 19,
   "id": "ec4978e6",
   "metadata": {},
   "outputs": [
    {
     "data": {
      "text/plain": [
       "NA                                 128\n",
       "5G 6 GB 128 GB                       2\n",
       "Pro 8 GB 256 GB                      2\n",
       "Note 20 8 GB 256                     1\n",
       "A52 6 GB 128 GB                      1\n",
       "1b 4 GB 64 GB                        1\n",
       "4 GB 64 GB Crystal                   1\n",
       "Pro 12 GB 256 GB                     1\n",
       "4 GB 64 GB Sky                       1\n",
       "12 GB 256 GB Glacial                 1\n",
       "A22 6 GB 128 GB                      1\n",
       "5G 8 GB 256 GB                       1\n",
       "2021 2 GB 32 GB                      1\n",
       "7 2 GB 32 GB                         1\n",
       "3 GB 64 GB Nebula                    1\n",
       "M31 6 GB 128 GB                      1\n",
       "8 GB 128 GB Midday                   1\n",
       "3 GB 32 GB Phantom                   1\n",
       "6 GB 128 GB Prism                    1\n",
       "3 GB 32 GB Arctic                    1\n",
       "6 GB 128 GB Crystal                  1\n",
       "4 GB 64 GB Obsidian                  1\n",
       "2 GB 32 GB Midnight                  1\n",
       "4 GB 64 GB Purist                    1\n",
       "Pro 6 GB 128 GB                      1\n",
       "2 GB 32 GB Sea                       1\n",
       "Z6 4 GB 64 GB                        1\n",
       "11 128 GB GreenWithout Earphone      1\n",
       "4 GB 128 GB Watery                   1\n",
       "8 GB 128 GB Glacial                  1\n",
       "4 GB 64 GB Diamond                   1\n",
       "Name: feature_of_phone, dtype: int64"
      ]
     },
     "execution_count": 19,
     "metadata": {},
     "output_type": "execute_result"
    }
   ],
   "source": [
    "df.feature_of_phone.value_counts()"
   ]
  },
  {
   "cell_type": "code",
   "execution_count": 20,
   "id": "753d522a",
   "metadata": {},
   "outputs": [
    {
     "data": {
      "text/plain": [
       "-59%    10\n",
       "-63%    10\n",
       "-10%     9\n",
       "0        6\n",
       "-57%     6\n",
       "        ..\n",
       "-89%     1\n",
       "-81%     1\n",
       "-44%     1\n",
       "-86%     1\n",
       "-67%     1\n",
       "Name: Discount, Length: 65, dtype: int64"
      ]
     },
     "execution_count": 20,
     "metadata": {},
     "output_type": "execute_result"
    }
   ],
   "source": [
    "df.Discount.value_counts()"
   ]
  },
  {
   "cell_type": "markdown",
   "id": "55bcf3aa",
   "metadata": {},
   "source": [
    "## changing Discount Percentage to numerical column"
   ]
  },
  {
   "cell_type": "code",
   "execution_count": 21,
   "id": "4b33fe87",
   "metadata": {},
   "outputs": [],
   "source": [
    "df[\"Discount\"]= df.Discount.apply(lambda x: x.replace(\"-\",''))\n",
    "df[\"Discount_Percent\"]= df.Discount.apply(lambda x: int(x.replace(\"%\",'')))"
   ]
  },
  {
   "cell_type": "code",
   "execution_count": 22,
   "id": "9d6a5e60",
   "metadata": {},
   "outputs": [
    {
     "data": {
      "text/html": [
       "<div>\n",
       "<style scoped>\n",
       "    .dataframe tbody tr th:only-of-type {\n",
       "        vertical-align: middle;\n",
       "    }\n",
       "\n",
       "    .dataframe tbody tr th {\n",
       "        vertical-align: top;\n",
       "    }\n",
       "\n",
       "    .dataframe thead th {\n",
       "        text-align: right;\n",
       "    }\n",
       "</style>\n",
       "<table border=\"1\" class=\"dataframe\">\n",
       "  <thead>\n",
       "    <tr style=\"text-align: right;\">\n",
       "      <th></th>\n",
       "      <th>Name</th>\n",
       "      <th>Price</th>\n",
       "      <th>Discount</th>\n",
       "      <th>categories</th>\n",
       "      <th>feature_of_phone</th>\n",
       "      <th>Discount_Percent</th>\n",
       "    </tr>\n",
       "  </thead>\n",
       "  <tbody>\n",
       "    <tr>\n",
       "      <th>0</th>\n",
       "      <td>OPPO F19 6 GB 128 GB Prism Black</td>\n",
       "      <td>19490.0</td>\n",
       "      <td>7%</td>\n",
       "      <td>Mobile_phones</td>\n",
       "      <td>6 GB 128 GB Prism</td>\n",
       "      <td>7</td>\n",
       "    </tr>\n",
       "    <tr>\n",
       "      <th>1</th>\n",
       "      <td>OPPO A54 4 GB 64 GB Crystal Black</td>\n",
       "      <td>14178.0</td>\n",
       "      <td>5%</td>\n",
       "      <td>Mobile_phones</td>\n",
       "      <td>4 GB 64 GB Crystal</td>\n",
       "      <td>5</td>\n",
       "    </tr>\n",
       "    <tr>\n",
       "      <th>2</th>\n",
       "      <td>Redmi 9 4 GB 64 GB Sky Blue</td>\n",
       "      <td>10449.0</td>\n",
       "      <td>5%</td>\n",
       "      <td>Mobile_phones</td>\n",
       "      <td>4 GB 64 GB Sky</td>\n",
       "      <td>5</td>\n",
       "    </tr>\n",
       "    <tr>\n",
       "      <th>3</th>\n",
       "      <td>Vivo Y20i 3 GB 64 GB Nebula Blue</td>\n",
       "      <td>11490.0</td>\n",
       "      <td>26%</td>\n",
       "      <td>Mobile_phones</td>\n",
       "      <td>3 GB 64 GB Nebula</td>\n",
       "      <td>26</td>\n",
       "    </tr>\n",
       "    <tr>\n",
       "      <th>4</th>\n",
       "      <td>OPPO A54 6 GB 128 GB Crystal Black</td>\n",
       "      <td>16990.0</td>\n",
       "      <td>6%</td>\n",
       "      <td>Mobile_phones</td>\n",
       "      <td>6 GB 128 GB Crystal</td>\n",
       "      <td>6</td>\n",
       "    </tr>\n",
       "  </tbody>\n",
       "</table>\n",
       "</div>"
      ],
      "text/plain": [
       "                                 Name    Price Discount     categories  \\\n",
       "0    OPPO F19 6 GB 128 GB Prism Black  19490.0       7%  Mobile_phones   \n",
       "1   OPPO A54 4 GB 64 GB Crystal Black  14178.0       5%  Mobile_phones   \n",
       "2         Redmi 9 4 GB 64 GB Sky Blue  10449.0       5%  Mobile_phones   \n",
       "3    Vivo Y20i 3 GB 64 GB Nebula Blue  11490.0      26%  Mobile_phones   \n",
       "4  OPPO A54 6 GB 128 GB Crystal Black  16990.0       6%  Mobile_phones   \n",
       "\n",
       "      feature_of_phone  Discount_Percent  \n",
       "0    6 GB 128 GB Prism                 7  \n",
       "1   4 GB 64 GB Crystal                 5  \n",
       "2       4 GB 64 GB Sky                 5  \n",
       "3    3 GB 64 GB Nebula                26  \n",
       "4  6 GB 128 GB Crystal                 6  "
      ]
     },
     "execution_count": 22,
     "metadata": {},
     "output_type": "execute_result"
    }
   ],
   "source": [
    "df.head()"
   ]
  },
  {
   "cell_type": "code",
   "execution_count": 23,
   "id": "f6973869",
   "metadata": {},
   "outputs": [
    {
     "data": {
      "text/plain": [
       "59    10\n",
       "63    10\n",
       "10     9\n",
       "0      6\n",
       "57     6\n",
       "      ..\n",
       "23     1\n",
       "56     1\n",
       "22     1\n",
       "20     1\n",
       "91     1\n",
       "Name: Discount_Percent, Length: 65, dtype: int64"
      ]
     },
     "execution_count": 23,
     "metadata": {},
     "output_type": "execute_result"
    }
   ],
   "source": [
    "df.Discount_Percent.value_counts()"
   ]
  },
  {
   "cell_type": "code",
   "execution_count": 24,
   "id": "e9870620",
   "metadata": {},
   "outputs": [],
   "source": [
    "df[\"Actual_Price\"]= df[\"Price\"] *100/(100-df[\"Discount_Percent\"])"
   ]
  },
  {
   "cell_type": "code",
   "execution_count": 25,
   "id": "6554cb70",
   "metadata": {},
   "outputs": [
    {
     "data": {
      "text/html": [
       "<div>\n",
       "<style scoped>\n",
       "    .dataframe tbody tr th:only-of-type {\n",
       "        vertical-align: middle;\n",
       "    }\n",
       "\n",
       "    .dataframe tbody tr th {\n",
       "        vertical-align: top;\n",
       "    }\n",
       "\n",
       "    .dataframe thead th {\n",
       "        text-align: right;\n",
       "    }\n",
       "</style>\n",
       "<table border=\"1\" class=\"dataframe\">\n",
       "  <thead>\n",
       "    <tr style=\"text-align: right;\">\n",
       "      <th></th>\n",
       "      <th>Name</th>\n",
       "      <th>Price</th>\n",
       "      <th>Discount</th>\n",
       "      <th>categories</th>\n",
       "      <th>feature_of_phone</th>\n",
       "      <th>Discount_Percent</th>\n",
       "      <th>Actual_Price</th>\n",
       "    </tr>\n",
       "  </thead>\n",
       "  <tbody>\n",
       "    <tr>\n",
       "      <th>0</th>\n",
       "      <td>OPPO F19 6 GB 128 GB Prism Black</td>\n",
       "      <td>19490.0</td>\n",
       "      <td>7%</td>\n",
       "      <td>Mobile_phones</td>\n",
       "      <td>6 GB 128 GB Prism</td>\n",
       "      <td>7</td>\n",
       "      <td>20956.989247</td>\n",
       "    </tr>\n",
       "    <tr>\n",
       "      <th>1</th>\n",
       "      <td>OPPO A54 4 GB 64 GB Crystal Black</td>\n",
       "      <td>14178.0</td>\n",
       "      <td>5%</td>\n",
       "      <td>Mobile_phones</td>\n",
       "      <td>4 GB 64 GB Crystal</td>\n",
       "      <td>5</td>\n",
       "      <td>14924.210526</td>\n",
       "    </tr>\n",
       "    <tr>\n",
       "      <th>2</th>\n",
       "      <td>Redmi 9 4 GB 64 GB Sky Blue</td>\n",
       "      <td>10449.0</td>\n",
       "      <td>5%</td>\n",
       "      <td>Mobile_phones</td>\n",
       "      <td>4 GB 64 GB Sky</td>\n",
       "      <td>5</td>\n",
       "      <td>10998.947368</td>\n",
       "    </tr>\n",
       "    <tr>\n",
       "      <th>3</th>\n",
       "      <td>Vivo Y20i 3 GB 64 GB Nebula Blue</td>\n",
       "      <td>11490.0</td>\n",
       "      <td>26%</td>\n",
       "      <td>Mobile_phones</td>\n",
       "      <td>3 GB 64 GB Nebula</td>\n",
       "      <td>26</td>\n",
       "      <td>15527.027027</td>\n",
       "    </tr>\n",
       "    <tr>\n",
       "      <th>4</th>\n",
       "      <td>OPPO A54 6 GB 128 GB Crystal Black</td>\n",
       "      <td>16990.0</td>\n",
       "      <td>6%</td>\n",
       "      <td>Mobile_phones</td>\n",
       "      <td>6 GB 128 GB Crystal</td>\n",
       "      <td>6</td>\n",
       "      <td>18074.468085</td>\n",
       "    </tr>\n",
       "  </tbody>\n",
       "</table>\n",
       "</div>"
      ],
      "text/plain": [
       "                                 Name    Price Discount     categories  \\\n",
       "0    OPPO F19 6 GB 128 GB Prism Black  19490.0       7%  Mobile_phones   \n",
       "1   OPPO A54 4 GB 64 GB Crystal Black  14178.0       5%  Mobile_phones   \n",
       "2         Redmi 9 4 GB 64 GB Sky Blue  10449.0       5%  Mobile_phones   \n",
       "3    Vivo Y20i 3 GB 64 GB Nebula Blue  11490.0      26%  Mobile_phones   \n",
       "4  OPPO A54 6 GB 128 GB Crystal Black  16990.0       6%  Mobile_phones   \n",
       "\n",
       "      feature_of_phone  Discount_Percent  Actual_Price  \n",
       "0    6 GB 128 GB Prism                 7  20956.989247  \n",
       "1   4 GB 64 GB Crystal                 5  14924.210526  \n",
       "2       4 GB 64 GB Sky                 5  10998.947368  \n",
       "3    3 GB 64 GB Nebula                26  15527.027027  \n",
       "4  6 GB 128 GB Crystal                 6  18074.468085  "
      ]
     },
     "execution_count": 25,
     "metadata": {},
     "output_type": "execute_result"
    }
   ],
   "source": [
    "df.head()"
   ]
  },
  {
   "cell_type": "code",
   "execution_count": 26,
   "id": "cbc117f4",
   "metadata": {},
   "outputs": [],
   "source": [
    "df[\"Actual_Price\"]=df[\"Actual_Price\"].apply(lambda x: float(np.round(x,2)))"
   ]
  },
  {
   "cell_type": "code",
   "execution_count": 27,
   "id": "d9a95eb6",
   "metadata": {},
   "outputs": [
    {
     "data": {
      "text/html": [
       "<div>\n",
       "<style scoped>\n",
       "    .dataframe tbody tr th:only-of-type {\n",
       "        vertical-align: middle;\n",
       "    }\n",
       "\n",
       "    .dataframe tbody tr th {\n",
       "        vertical-align: top;\n",
       "    }\n",
       "\n",
       "    .dataframe thead th {\n",
       "        text-align: right;\n",
       "    }\n",
       "</style>\n",
       "<table border=\"1\" class=\"dataframe\">\n",
       "  <thead>\n",
       "    <tr style=\"text-align: right;\">\n",
       "      <th></th>\n",
       "      <th>Name</th>\n",
       "      <th>Price</th>\n",
       "      <th>Discount</th>\n",
       "      <th>categories</th>\n",
       "      <th>feature_of_phone</th>\n",
       "      <th>Discount_Percent</th>\n",
       "      <th>Actual_Price</th>\n",
       "    </tr>\n",
       "  </thead>\n",
       "  <tbody>\n",
       "    <tr>\n",
       "      <th>0</th>\n",
       "      <td>OPPO F19 6 GB 128 GB Prism Black</td>\n",
       "      <td>19490.0</td>\n",
       "      <td>7%</td>\n",
       "      <td>Mobile_phones</td>\n",
       "      <td>6 GB 128 GB Prism</td>\n",
       "      <td>7</td>\n",
       "      <td>20956.99</td>\n",
       "    </tr>\n",
       "    <tr>\n",
       "      <th>1</th>\n",
       "      <td>OPPO A54 4 GB 64 GB Crystal Black</td>\n",
       "      <td>14178.0</td>\n",
       "      <td>5%</td>\n",
       "      <td>Mobile_phones</td>\n",
       "      <td>4 GB 64 GB Crystal</td>\n",
       "      <td>5</td>\n",
       "      <td>14924.21</td>\n",
       "    </tr>\n",
       "    <tr>\n",
       "      <th>2</th>\n",
       "      <td>Redmi 9 4 GB 64 GB Sky Blue</td>\n",
       "      <td>10449.0</td>\n",
       "      <td>5%</td>\n",
       "      <td>Mobile_phones</td>\n",
       "      <td>4 GB 64 GB Sky</td>\n",
       "      <td>5</td>\n",
       "      <td>10998.95</td>\n",
       "    </tr>\n",
       "    <tr>\n",
       "      <th>3</th>\n",
       "      <td>Vivo Y20i 3 GB 64 GB Nebula Blue</td>\n",
       "      <td>11490.0</td>\n",
       "      <td>26%</td>\n",
       "      <td>Mobile_phones</td>\n",
       "      <td>3 GB 64 GB Nebula</td>\n",
       "      <td>26</td>\n",
       "      <td>15527.03</td>\n",
       "    </tr>\n",
       "    <tr>\n",
       "      <th>4</th>\n",
       "      <td>OPPO A54 6 GB 128 GB Crystal Black</td>\n",
       "      <td>16990.0</td>\n",
       "      <td>6%</td>\n",
       "      <td>Mobile_phones</td>\n",
       "      <td>6 GB 128 GB Crystal</td>\n",
       "      <td>6</td>\n",
       "      <td>18074.47</td>\n",
       "    </tr>\n",
       "  </tbody>\n",
       "</table>\n",
       "</div>"
      ],
      "text/plain": [
       "                                 Name    Price Discount     categories  \\\n",
       "0    OPPO F19 6 GB 128 GB Prism Black  19490.0       7%  Mobile_phones   \n",
       "1   OPPO A54 4 GB 64 GB Crystal Black  14178.0       5%  Mobile_phones   \n",
       "2         Redmi 9 4 GB 64 GB Sky Blue  10449.0       5%  Mobile_phones   \n",
       "3    Vivo Y20i 3 GB 64 GB Nebula Blue  11490.0      26%  Mobile_phones   \n",
       "4  OPPO A54 6 GB 128 GB Crystal Black  16990.0       6%  Mobile_phones   \n",
       "\n",
       "      feature_of_phone  Discount_Percent  Actual_Price  \n",
       "0    6 GB 128 GB Prism                 7      20956.99  \n",
       "1   4 GB 64 GB Crystal                 5      14924.21  \n",
       "2       4 GB 64 GB Sky                 5      10998.95  \n",
       "3    3 GB 64 GB Nebula                26      15527.03  \n",
       "4  6 GB 128 GB Crystal                 6      18074.47  "
      ]
     },
     "execution_count": 27,
     "metadata": {},
     "output_type": "execute_result"
    }
   ],
   "source": [
    "df.head()"
   ]
  },
  {
   "cell_type": "code",
   "execution_count": 28,
   "id": "eb1e83d6",
   "metadata": {},
   "outputs": [
    {
     "data": {
      "text/plain": [
       "Computer_Accesories      32\n",
       "grooming_accesories      32\n",
       "Headphones               32\n",
       "Electronic_Accesories    32\n",
       "Mobile_phones            32\n",
       "Name: categories, dtype: int64"
      ]
     },
     "execution_count": 28,
     "metadata": {},
     "output_type": "execute_result"
    }
   ],
   "source": [
    "df.categories.value_counts()"
   ]
  },
  {
   "cell_type": "code",
   "execution_count": 29,
   "id": "030857e0",
   "metadata": {},
   "outputs": [
    {
     "data": {
      "text/html": [
       "<div>\n",
       "<style scoped>\n",
       "    .dataframe tbody tr th:only-of-type {\n",
       "        vertical-align: middle;\n",
       "    }\n",
       "\n",
       "    .dataframe tbody tr th {\n",
       "        vertical-align: top;\n",
       "    }\n",
       "\n",
       "    .dataframe thead th {\n",
       "        text-align: right;\n",
       "    }\n",
       "</style>\n",
       "<table border=\"1\" class=\"dataframe\">\n",
       "  <thead>\n",
       "    <tr style=\"text-align: right;\">\n",
       "      <th></th>\n",
       "      <th>Name</th>\n",
       "      <th>Price</th>\n",
       "      <th>Discount</th>\n",
       "      <th>categories</th>\n",
       "      <th>feature_of_phone</th>\n",
       "      <th>Discount_Percent</th>\n",
       "      <th>Actual_Price</th>\n",
       "    </tr>\n",
       "  </thead>\n",
       "  <tbody>\n",
       "    <tr>\n",
       "      <th>33</th>\n",
       "      <td>boAt Bassheads 103 In-Ear</td>\n",
       "      <td>399.0</td>\n",
       "      <td>69%</td>\n",
       "      <td>Headphones</td>\n",
       "      <td>NA</td>\n",
       "      <td>69</td>\n",
       "      <td>1287.10</td>\n",
       "    </tr>\n",
       "    <tr>\n",
       "      <th>34</th>\n",
       "      <td>realme Buds 2 Neo With HD</td>\n",
       "      <td>549.0</td>\n",
       "      <td>8%</td>\n",
       "      <td>Headphones</td>\n",
       "      <td>NA</td>\n",
       "      <td>8</td>\n",
       "      <td>596.74</td>\n",
       "    </tr>\n",
       "    <tr>\n",
       "      <th>35</th>\n",
       "      <td>Boult Audio ProBass Curve</td>\n",
       "      <td>999.0</td>\n",
       "      <td>78%</td>\n",
       "      <td>Headphones</td>\n",
       "      <td>NA</td>\n",
       "      <td>78</td>\n",
       "      <td>4540.91</td>\n",
       "    </tr>\n",
       "    <tr>\n",
       "      <th>36</th>\n",
       "      <td>boAt Rockerz 235v2 In-Ear</td>\n",
       "      <td>1199.0</td>\n",
       "      <td>60%</td>\n",
       "      <td>Headphones</td>\n",
       "      <td>NA</td>\n",
       "      <td>60</td>\n",
       "      <td>2997.50</td>\n",
       "    </tr>\n",
       "    <tr>\n",
       "      <th>37</th>\n",
       "      <td>boAt Bassheads 103 In-Ear</td>\n",
       "      <td>399.0</td>\n",
       "      <td>69%</td>\n",
       "      <td>Headphones</td>\n",
       "      <td>NA</td>\n",
       "      <td>69</td>\n",
       "      <td>1287.10</td>\n",
       "    </tr>\n",
       "    <tr>\n",
       "      <th>38</th>\n",
       "      <td>Boult Audio AirBass Combu</td>\n",
       "      <td>1299.0</td>\n",
       "      <td>74%</td>\n",
       "      <td>Headphones</td>\n",
       "      <td>NA</td>\n",
       "      <td>74</td>\n",
       "      <td>4996.15</td>\n",
       "    </tr>\n",
       "    <tr>\n",
       "      <th>39</th>\n",
       "      <td>Tiitan S9 In-Ear Wired He</td>\n",
       "      <td>189.0</td>\n",
       "      <td>81%</td>\n",
       "      <td>Headphones</td>\n",
       "      <td>NA</td>\n",
       "      <td>81</td>\n",
       "      <td>994.74</td>\n",
       "    </tr>\n",
       "    <tr>\n",
       "      <th>40</th>\n",
       "      <td>Portronics Conch Gama POR</td>\n",
       "      <td>299.0</td>\n",
       "      <td>50%</td>\n",
       "      <td>Headphones</td>\n",
       "      <td>NA</td>\n",
       "      <td>50</td>\n",
       "      <td>598.00</td>\n",
       "    </tr>\n",
       "    <tr>\n",
       "      <th>41</th>\n",
       "      <td>Noise Air Buds True Wirel</td>\n",
       "      <td>2199.0</td>\n",
       "      <td>63%</td>\n",
       "      <td>Headphones</td>\n",
       "      <td>NA</td>\n",
       "      <td>63</td>\n",
       "      <td>5943.24</td>\n",
       "    </tr>\n",
       "    <tr>\n",
       "      <th>42</th>\n",
       "      <td>boAt Airdopes 138 True Wi</td>\n",
       "      <td>1299.0</td>\n",
       "      <td>57%</td>\n",
       "      <td>Headphones</td>\n",
       "      <td>NA</td>\n",
       "      <td>57</td>\n",
       "      <td>3020.93</td>\n",
       "    </tr>\n",
       "    <tr>\n",
       "      <th>43</th>\n",
       "      <td>Boult Audio BassBuds X1 X</td>\n",
       "      <td>349.0</td>\n",
       "      <td>65%</td>\n",
       "      <td>Headphones</td>\n",
       "      <td>NA</td>\n",
       "      <td>65</td>\n",
       "      <td>997.14</td>\n",
       "    </tr>\n",
       "    <tr>\n",
       "      <th>44</th>\n",
       "      <td>Portronics POR-1186 In-Ea</td>\n",
       "      <td>899.0</td>\n",
       "      <td>55%</td>\n",
       "      <td>Headphones</td>\n",
       "      <td>NA</td>\n",
       "      <td>55</td>\n",
       "      <td>1997.78</td>\n",
       "    </tr>\n",
       "    <tr>\n",
       "      <th>45</th>\n",
       "      <td>boAt BassHeads 100 In-Ear</td>\n",
       "      <td>399.0</td>\n",
       "      <td>60%</td>\n",
       "      <td>Headphones</td>\n",
       "      <td>NA</td>\n",
       "      <td>60</td>\n",
       "      <td>997.50</td>\n",
       "    </tr>\n",
       "    <tr>\n",
       "      <th>46</th>\n",
       "      <td>Boult Audio AirBass Liveb</td>\n",
       "      <td>1299.0</td>\n",
       "      <td>86%</td>\n",
       "      <td>Headphones</td>\n",
       "      <td>NA</td>\n",
       "      <td>86</td>\n",
       "      <td>9278.57</td>\n",
       "    </tr>\n",
       "    <tr>\n",
       "      <th>47</th>\n",
       "      <td>Portronics Conch Delta PO</td>\n",
       "      <td>279.0</td>\n",
       "      <td>30%</td>\n",
       "      <td>Headphones</td>\n",
       "      <td>NA</td>\n",
       "      <td>30</td>\n",
       "      <td>398.57</td>\n",
       "    </tr>\n",
       "    <tr>\n",
       "      <th>48</th>\n",
       "      <td>boAt Airdopes 138 True Wi</td>\n",
       "      <td>1299.0</td>\n",
       "      <td>57%</td>\n",
       "      <td>Headphones</td>\n",
       "      <td>NA</td>\n",
       "      <td>57</td>\n",
       "      <td>3020.93</td>\n",
       "    </tr>\n",
       "    <tr>\n",
       "      <th>49</th>\n",
       "      <td>Boult Audio Bassbuds Loop</td>\n",
       "      <td>399.0</td>\n",
       "      <td>67%</td>\n",
       "      <td>Headphones</td>\n",
       "      <td>NA</td>\n",
       "      <td>67</td>\n",
       "      <td>1209.09</td>\n",
       "    </tr>\n",
       "    <tr>\n",
       "      <th>50</th>\n",
       "      <td>Portronics POR-1100 Harmo</td>\n",
       "      <td>1199.0</td>\n",
       "      <td>40%</td>\n",
       "      <td>Headphones</td>\n",
       "      <td>NA</td>\n",
       "      <td>40</td>\n",
       "      <td>1998.33</td>\n",
       "    </tr>\n",
       "    <tr>\n",
       "      <th>51</th>\n",
       "      <td>boAt bassheads 242 In-Ear</td>\n",
       "      <td>549.0</td>\n",
       "      <td>63%</td>\n",
       "      <td>Headphones</td>\n",
       "      <td>NA</td>\n",
       "      <td>63</td>\n",
       "      <td>1483.78</td>\n",
       "    </tr>\n",
       "    <tr>\n",
       "      <th>52</th>\n",
       "      <td>Boult Audio Airbass Freep</td>\n",
       "      <td>1299.0</td>\n",
       "      <td>78%</td>\n",
       "      <td>Headphones</td>\n",
       "      <td>NA</td>\n",
       "      <td>78</td>\n",
       "      <td>5904.55</td>\n",
       "    </tr>\n",
       "    <tr>\n",
       "      <th>53</th>\n",
       "      <td>boAt BassHeads 100 In-Ear</td>\n",
       "      <td>399.0</td>\n",
       "      <td>60%</td>\n",
       "      <td>Headphones</td>\n",
       "      <td>NA</td>\n",
       "      <td>60</td>\n",
       "      <td>997.50</td>\n",
       "    </tr>\n",
       "    <tr>\n",
       "      <th>54</th>\n",
       "      <td>Boult Audio Bassbuds Loop</td>\n",
       "      <td>459.0</td>\n",
       "      <td>62%</td>\n",
       "      <td>Headphones</td>\n",
       "      <td>NA</td>\n",
       "      <td>62</td>\n",
       "      <td>1207.89</td>\n",
       "    </tr>\n",
       "    <tr>\n",
       "      <th>55</th>\n",
       "      <td>boAt bassheads 100 In-Ear</td>\n",
       "      <td>399.0</td>\n",
       "      <td>60%</td>\n",
       "      <td>Headphones</td>\n",
       "      <td>NA</td>\n",
       "      <td>60</td>\n",
       "      <td>997.50</td>\n",
       "    </tr>\n",
       "    <tr>\n",
       "      <th>56</th>\n",
       "      <td>Acid eye HBS-730 In-Ear B</td>\n",
       "      <td>385.0</td>\n",
       "      <td>57%</td>\n",
       "      <td>Headphones</td>\n",
       "      <td>NA</td>\n",
       "      <td>57</td>\n",
       "      <td>895.35</td>\n",
       "    </tr>\n",
       "    <tr>\n",
       "      <th>57</th>\n",
       "      <td>Boult Audio Bass Buds Q2</td>\n",
       "      <td>649.0</td>\n",
       "      <td>74%</td>\n",
       "      <td>Headphones</td>\n",
       "      <td>NA</td>\n",
       "      <td>74</td>\n",
       "      <td>2496.15</td>\n",
       "    </tr>\n",
       "    <tr>\n",
       "      <th>58</th>\n",
       "      <td>Portronics Harmonics Twin</td>\n",
       "      <td>1499.0</td>\n",
       "      <td>50%</td>\n",
       "      <td>Headphones</td>\n",
       "      <td>NA</td>\n",
       "      <td>50</td>\n",
       "      <td>2998.00</td>\n",
       "    </tr>\n",
       "    <tr>\n",
       "      <th>59</th>\n",
       "      <td>boAt Bassheads 172 In-Ear</td>\n",
       "      <td>499.0</td>\n",
       "      <td>62%</td>\n",
       "      <td>Headphones</td>\n",
       "      <td>NA</td>\n",
       "      <td>62</td>\n",
       "      <td>1313.16</td>\n",
       "    </tr>\n",
       "    <tr>\n",
       "      <th>60</th>\n",
       "      <td>Boult Audio ProBass Curve</td>\n",
       "      <td>999.0</td>\n",
       "      <td>78%</td>\n",
       "      <td>Headphones</td>\n",
       "      <td>NA</td>\n",
       "      <td>78</td>\n",
       "      <td>4540.91</td>\n",
       "    </tr>\n",
       "    <tr>\n",
       "      <th>61</th>\n",
       "      <td>Zebronics Zeb bro Zeb bro</td>\n",
       "      <td>224.0</td>\n",
       "      <td>44%</td>\n",
       "      <td>Headphones</td>\n",
       "      <td>NA</td>\n",
       "      <td>44</td>\n",
       "      <td>400.00</td>\n",
       "    </tr>\n",
       "    <tr>\n",
       "      <th>62</th>\n",
       "      <td>realme Buds 2 In-Ear Wire</td>\n",
       "      <td>599.0</td>\n",
       "      <td>25%</td>\n",
       "      <td>Headphones</td>\n",
       "      <td>NA</td>\n",
       "      <td>25</td>\n",
       "      <td>798.67</td>\n",
       "    </tr>\n",
       "    <tr>\n",
       "      <th>63</th>\n",
       "      <td>Portronics Harmonics 300</td>\n",
       "      <td>1299.0</td>\n",
       "      <td>57%</td>\n",
       "      <td>Headphones</td>\n",
       "      <td>NA</td>\n",
       "      <td>57</td>\n",
       "      <td>3020.93</td>\n",
       "    </tr>\n",
       "    <tr>\n",
       "      <th>64</th>\n",
       "      <td>Sony WF-XB700 True Wirele</td>\n",
       "      <td>7990.0</td>\n",
       "      <td>33%</td>\n",
       "      <td>Headphones</td>\n",
       "      <td>NA</td>\n",
       "      <td>33</td>\n",
       "      <td>11925.37</td>\n",
       "    </tr>\n",
       "  </tbody>\n",
       "</table>\n",
       "</div>"
      ],
      "text/plain": [
       "                         Name   Price Discount  categories feature_of_phone  \\\n",
       "33  boAt Bassheads 103 In-Ear   399.0      69%  Headphones               NA   \n",
       "34  realme Buds 2 Neo With HD   549.0       8%  Headphones               NA   \n",
       "35  Boult Audio ProBass Curve   999.0      78%  Headphones               NA   \n",
       "36  boAt Rockerz 235v2 In-Ear  1199.0      60%  Headphones               NA   \n",
       "37  boAt Bassheads 103 In-Ear   399.0      69%  Headphones               NA   \n",
       "38  Boult Audio AirBass Combu  1299.0      74%  Headphones               NA   \n",
       "39  Tiitan S9 In-Ear Wired He   189.0      81%  Headphones               NA   \n",
       "40  Portronics Conch Gama POR   299.0      50%  Headphones               NA   \n",
       "41  Noise Air Buds True Wirel  2199.0      63%  Headphones               NA   \n",
       "42  boAt Airdopes 138 True Wi  1299.0      57%  Headphones               NA   \n",
       "43  Boult Audio BassBuds X1 X   349.0      65%  Headphones               NA   \n",
       "44  Portronics POR-1186 In-Ea   899.0      55%  Headphones               NA   \n",
       "45  boAt BassHeads 100 In-Ear   399.0      60%  Headphones               NA   \n",
       "46  Boult Audio AirBass Liveb  1299.0      86%  Headphones               NA   \n",
       "47  Portronics Conch Delta PO   279.0      30%  Headphones               NA   \n",
       "48  boAt Airdopes 138 True Wi  1299.0      57%  Headphones               NA   \n",
       "49  Boult Audio Bassbuds Loop   399.0      67%  Headphones               NA   \n",
       "50  Portronics POR-1100 Harmo  1199.0      40%  Headphones               NA   \n",
       "51  boAt bassheads 242 In-Ear   549.0      63%  Headphones               NA   \n",
       "52  Boult Audio Airbass Freep  1299.0      78%  Headphones               NA   \n",
       "53  boAt BassHeads 100 In-Ear   399.0      60%  Headphones               NA   \n",
       "54  Boult Audio Bassbuds Loop   459.0      62%  Headphones               NA   \n",
       "55  boAt bassheads 100 In-Ear   399.0      60%  Headphones               NA   \n",
       "56  Acid eye HBS-730 In-Ear B   385.0      57%  Headphones               NA   \n",
       "57  Boult Audio Bass Buds Q2    649.0      74%  Headphones               NA   \n",
       "58  Portronics Harmonics Twin  1499.0      50%  Headphones               NA   \n",
       "59  boAt Bassheads 172 In-Ear   499.0      62%  Headphones               NA   \n",
       "60  Boult Audio ProBass Curve   999.0      78%  Headphones               NA   \n",
       "61  Zebronics Zeb bro Zeb bro   224.0      44%  Headphones               NA   \n",
       "62  realme Buds 2 In-Ear Wire   599.0      25%  Headphones               NA   \n",
       "63  Portronics Harmonics 300   1299.0      57%  Headphones               NA   \n",
       "64  Sony WF-XB700 True Wirele  7990.0      33%  Headphones               NA   \n",
       "\n",
       "    Discount_Percent  Actual_Price  \n",
       "33                69       1287.10  \n",
       "34                 8        596.74  \n",
       "35                78       4540.91  \n",
       "36                60       2997.50  \n",
       "37                69       1287.10  \n",
       "38                74       4996.15  \n",
       "39                81        994.74  \n",
       "40                50        598.00  \n",
       "41                63       5943.24  \n",
       "42                57       3020.93  \n",
       "43                65        997.14  \n",
       "44                55       1997.78  \n",
       "45                60        997.50  \n",
       "46                86       9278.57  \n",
       "47                30        398.57  \n",
       "48                57       3020.93  \n",
       "49                67       1209.09  \n",
       "50                40       1998.33  \n",
       "51                63       1483.78  \n",
       "52                78       5904.55  \n",
       "53                60        997.50  \n",
       "54                62       1207.89  \n",
       "55                60        997.50  \n",
       "56                57        895.35  \n",
       "57                74       2496.15  \n",
       "58                50       2998.00  \n",
       "59                62       1313.16  \n",
       "60                78       4540.91  \n",
       "61                44        400.00  \n",
       "62                25        798.67  \n",
       "63                57       3020.93  \n",
       "64                33      11925.37  "
      ]
     },
     "execution_count": 29,
     "metadata": {},
     "output_type": "execute_result"
    }
   ],
   "source": [
    "df[df[\"categories\"]==\"Headphones\"]"
   ]
  },
  {
   "cell_type": "code",
   "execution_count": 30,
   "id": "c2002a5a",
   "metadata": {},
   "outputs": [
    {
     "data": {
      "text/html": [
       "<div>\n",
       "<style scoped>\n",
       "    .dataframe tbody tr th:only-of-type {\n",
       "        vertical-align: middle;\n",
       "    }\n",
       "\n",
       "    .dataframe tbody tr th {\n",
       "        vertical-align: top;\n",
       "    }\n",
       "\n",
       "    .dataframe thead th {\n",
       "        text-align: right;\n",
       "    }\n",
       "</style>\n",
       "<table border=\"1\" class=\"dataframe\">\n",
       "  <thead>\n",
       "    <tr style=\"text-align: right;\">\n",
       "      <th></th>\n",
       "      <th>Name</th>\n",
       "      <th>Price</th>\n",
       "      <th>Discount</th>\n",
       "      <th>categories</th>\n",
       "      <th>feature_of_phone</th>\n",
       "      <th>Discount_Percent</th>\n",
       "      <th>Actual_Price</th>\n",
       "    </tr>\n",
       "  </thead>\n",
       "  <tbody>\n",
       "    <tr>\n",
       "      <th>0</th>\n",
       "      <td>OPPO F19 6 GB 128 GB Prism Black</td>\n",
       "      <td>19490.0</td>\n",
       "      <td>7%</td>\n",
       "      <td>Mobile_phones</td>\n",
       "      <td>6 GB 128 GB Prism</td>\n",
       "      <td>7</td>\n",
       "      <td>20956.99</td>\n",
       "    </tr>\n",
       "    <tr>\n",
       "      <th>1</th>\n",
       "      <td>OPPO A54 4 GB 64 GB Crystal Black</td>\n",
       "      <td>14178.0</td>\n",
       "      <td>5%</td>\n",
       "      <td>Mobile_phones</td>\n",
       "      <td>4 GB 64 GB Crystal</td>\n",
       "      <td>5</td>\n",
       "      <td>14924.21</td>\n",
       "    </tr>\n",
       "    <tr>\n",
       "      <th>2</th>\n",
       "      <td>Redmi 9 4 GB 64 GB Sky Blue</td>\n",
       "      <td>10449.0</td>\n",
       "      <td>5%</td>\n",
       "      <td>Mobile_phones</td>\n",
       "      <td>4 GB 64 GB Sky</td>\n",
       "      <td>5</td>\n",
       "      <td>10998.95</td>\n",
       "    </tr>\n",
       "    <tr>\n",
       "      <th>3</th>\n",
       "      <td>Vivo Y20i 3 GB 64 GB Nebula Blue</td>\n",
       "      <td>11490.0</td>\n",
       "      <td>26%</td>\n",
       "      <td>Mobile_phones</td>\n",
       "      <td>3 GB 64 GB Nebula</td>\n",
       "      <td>26</td>\n",
       "      <td>15527.03</td>\n",
       "    </tr>\n",
       "    <tr>\n",
       "      <th>4</th>\n",
       "      <td>OPPO A54 6 GB 128 GB Crystal Black</td>\n",
       "      <td>16990.0</td>\n",
       "      <td>6%</td>\n",
       "      <td>Mobile_phones</td>\n",
       "      <td>6 GB 128 GB Crystal</td>\n",
       "      <td>6</td>\n",
       "      <td>18074.47</td>\n",
       "    </tr>\n",
       "    <tr>\n",
       "      <th>...</th>\n",
       "      <td>...</td>\n",
       "      <td>...</td>\n",
       "      <td>...</td>\n",
       "      <td>...</td>\n",
       "      <td>...</td>\n",
       "      <td>...</td>\n",
       "      <td>...</td>\n",
       "    </tr>\n",
       "    <tr>\n",
       "      <th>156</th>\n",
       "      <td>RRTBZ Back Case Cover for</td>\n",
       "      <td>389.0</td>\n",
       "      <td>63%</td>\n",
       "      <td>Electronic_Accesories</td>\n",
       "      <td>NA</td>\n",
       "      <td>63</td>\n",
       "      <td>1051.35</td>\n",
       "    </tr>\n",
       "    <tr>\n",
       "      <th>157</th>\n",
       "      <td>RRTBZ Back Case Cover for</td>\n",
       "      <td>429.0</td>\n",
       "      <td>59%</td>\n",
       "      <td>Electronic_Accesories</td>\n",
       "      <td>NA</td>\n",
       "      <td>59</td>\n",
       "      <td>1046.34</td>\n",
       "    </tr>\n",
       "    <tr>\n",
       "      <th>158</th>\n",
       "      <td>RRTBZ Camera Protection B</td>\n",
       "      <td>299.0</td>\n",
       "      <td>63%</td>\n",
       "      <td>Electronic_Accesories</td>\n",
       "      <td>NA</td>\n",
       "      <td>63</td>\n",
       "      <td>808.11</td>\n",
       "    </tr>\n",
       "    <tr>\n",
       "      <th>159</th>\n",
       "      <td>RRTBZ TPU Back Cover for</td>\n",
       "      <td>349.0</td>\n",
       "      <td>59%</td>\n",
       "      <td>Electronic_Accesories</td>\n",
       "      <td>NA</td>\n",
       "      <td>59</td>\n",
       "      <td>851.22</td>\n",
       "    </tr>\n",
       "    <tr>\n",
       "      <th>160</th>\n",
       "      <td>RRTBZ Soft Silicone TPU B</td>\n",
       "      <td>269.0</td>\n",
       "      <td>68%</td>\n",
       "      <td>Electronic_Accesories</td>\n",
       "      <td>NA</td>\n",
       "      <td>68</td>\n",
       "      <td>840.62</td>\n",
       "    </tr>\n",
       "  </tbody>\n",
       "</table>\n",
       "<p>160 rows × 7 columns</p>\n",
       "</div>"
      ],
      "text/plain": [
       "                                   Name    Price Discount  \\\n",
       "0      OPPO F19 6 GB 128 GB Prism Black  19490.0       7%   \n",
       "1     OPPO A54 4 GB 64 GB Crystal Black  14178.0       5%   \n",
       "2           Redmi 9 4 GB 64 GB Sky Blue  10449.0       5%   \n",
       "3      Vivo Y20i 3 GB 64 GB Nebula Blue  11490.0      26%   \n",
       "4    OPPO A54 6 GB 128 GB Crystal Black  16990.0       6%   \n",
       "..                                  ...      ...      ...   \n",
       "156           RRTBZ Back Case Cover for    389.0      63%   \n",
       "157           RRTBZ Back Case Cover for    429.0      59%   \n",
       "158           RRTBZ Camera Protection B    299.0      63%   \n",
       "159           RRTBZ TPU Back Cover for     349.0      59%   \n",
       "160           RRTBZ Soft Silicone TPU B    269.0      68%   \n",
       "\n",
       "                categories     feature_of_phone  Discount_Percent  \\\n",
       "0            Mobile_phones    6 GB 128 GB Prism                 7   \n",
       "1            Mobile_phones   4 GB 64 GB Crystal                 5   \n",
       "2            Mobile_phones       4 GB 64 GB Sky                 5   \n",
       "3            Mobile_phones    3 GB 64 GB Nebula                26   \n",
       "4            Mobile_phones  6 GB 128 GB Crystal                 6   \n",
       "..                     ...                  ...               ...   \n",
       "156  Electronic_Accesories                   NA                63   \n",
       "157  Electronic_Accesories                   NA                59   \n",
       "158  Electronic_Accesories                   NA                63   \n",
       "159  Electronic_Accesories                   NA                59   \n",
       "160  Electronic_Accesories                   NA                68   \n",
       "\n",
       "     Actual_Price  \n",
       "0        20956.99  \n",
       "1        14924.21  \n",
       "2        10998.95  \n",
       "3        15527.03  \n",
       "4        18074.47  \n",
       "..            ...  \n",
       "156       1051.35  \n",
       "157       1046.34  \n",
       "158        808.11  \n",
       "159        851.22  \n",
       "160        840.62  \n",
       "\n",
       "[160 rows x 7 columns]"
      ]
     },
     "execution_count": 30,
     "metadata": {},
     "output_type": "execute_result"
    }
   ],
   "source": [
    "df"
   ]
  },
  {
   "cell_type": "code",
   "execution_count": 35,
   "id": "a099a289",
   "metadata": {},
   "outputs": [],
   "source": [
    "df.drop([\"Discount\"], axis='columns', inplace=True)"
   ]
  },
  {
   "cell_type": "code",
   "execution_count": 36,
   "id": "5250fe37",
   "metadata": {},
   "outputs": [
    {
     "data": {
      "text/html": [
       "<div>\n",
       "<style scoped>\n",
       "    .dataframe tbody tr th:only-of-type {\n",
       "        vertical-align: middle;\n",
       "    }\n",
       "\n",
       "    .dataframe tbody tr th {\n",
       "        vertical-align: top;\n",
       "    }\n",
       "\n",
       "    .dataframe thead th {\n",
       "        text-align: right;\n",
       "    }\n",
       "</style>\n",
       "<table border=\"1\" class=\"dataframe\">\n",
       "  <thead>\n",
       "    <tr style=\"text-align: right;\">\n",
       "      <th></th>\n",
       "      <th>Name</th>\n",
       "      <th>Price</th>\n",
       "      <th>categories</th>\n",
       "      <th>feature_of_phone</th>\n",
       "      <th>Discount_Percent</th>\n",
       "      <th>Actual_Price</th>\n",
       "    </tr>\n",
       "  </thead>\n",
       "  <tbody>\n",
       "    <tr>\n",
       "      <th>0</th>\n",
       "      <td>OPPO F19 6 GB 128 GB Prism Black</td>\n",
       "      <td>19490.0</td>\n",
       "      <td>Mobile_phones</td>\n",
       "      <td>6 GB 128 GB Prism</td>\n",
       "      <td>7</td>\n",
       "      <td>20956.99</td>\n",
       "    </tr>\n",
       "    <tr>\n",
       "      <th>1</th>\n",
       "      <td>OPPO A54 4 GB 64 GB Crystal Black</td>\n",
       "      <td>14178.0</td>\n",
       "      <td>Mobile_phones</td>\n",
       "      <td>4 GB 64 GB Crystal</td>\n",
       "      <td>5</td>\n",
       "      <td>14924.21</td>\n",
       "    </tr>\n",
       "    <tr>\n",
       "      <th>2</th>\n",
       "      <td>Redmi 9 4 GB 64 GB Sky Blue</td>\n",
       "      <td>10449.0</td>\n",
       "      <td>Mobile_phones</td>\n",
       "      <td>4 GB 64 GB Sky</td>\n",
       "      <td>5</td>\n",
       "      <td>10998.95</td>\n",
       "    </tr>\n",
       "    <tr>\n",
       "      <th>3</th>\n",
       "      <td>Vivo Y20i 3 GB 64 GB Nebula Blue</td>\n",
       "      <td>11490.0</td>\n",
       "      <td>Mobile_phones</td>\n",
       "      <td>3 GB 64 GB Nebula</td>\n",
       "      <td>26</td>\n",
       "      <td>15527.03</td>\n",
       "    </tr>\n",
       "    <tr>\n",
       "      <th>4</th>\n",
       "      <td>OPPO A54 6 GB 128 GB Crystal Black</td>\n",
       "      <td>16990.0</td>\n",
       "      <td>Mobile_phones</td>\n",
       "      <td>6 GB 128 GB Crystal</td>\n",
       "      <td>6</td>\n",
       "      <td>18074.47</td>\n",
       "    </tr>\n",
       "  </tbody>\n",
       "</table>\n",
       "</div>"
      ],
      "text/plain": [
       "                                 Name    Price     categories  \\\n",
       "0    OPPO F19 6 GB 128 GB Prism Black  19490.0  Mobile_phones   \n",
       "1   OPPO A54 4 GB 64 GB Crystal Black  14178.0  Mobile_phones   \n",
       "2         Redmi 9 4 GB 64 GB Sky Blue  10449.0  Mobile_phones   \n",
       "3    Vivo Y20i 3 GB 64 GB Nebula Blue  11490.0  Mobile_phones   \n",
       "4  OPPO A54 6 GB 128 GB Crystal Black  16990.0  Mobile_phones   \n",
       "\n",
       "      feature_of_phone  Discount_Percent  Actual_Price  \n",
       "0    6 GB 128 GB Prism                 7      20956.99  \n",
       "1   4 GB 64 GB Crystal                 5      14924.21  \n",
       "2       4 GB 64 GB Sky                 5      10998.95  \n",
       "3    3 GB 64 GB Nebula                26      15527.03  \n",
       "4  6 GB 128 GB Crystal                 6      18074.47  "
      ]
     },
     "execution_count": 36,
     "metadata": {},
     "output_type": "execute_result"
    }
   ],
   "source": [
    "df.head()"
   ]
  },
  {
   "cell_type": "markdown",
   "id": "167f7834",
   "metadata": {},
   "source": [
    "## Adding more Categorical columns for better Analysis"
   ]
  },
  {
   "cell_type": "code",
   "execution_count": 38,
   "id": "03342210",
   "metadata": {},
   "outputs": [
    {
     "data": {
      "text/plain": [
       "399.0      12\n",
       "299.0       7\n",
       "1299.0      7\n",
       "349.0       4\n",
       "899.0       4\n",
       "           ..\n",
       "1240.0      1\n",
       "18499.0     1\n",
       "29990.0     1\n",
       "385.0       1\n",
       "729.0       1\n",
       "Name: Price, Length: 99, dtype: int64"
      ]
     },
     "execution_count": 38,
     "metadata": {},
     "output_type": "execute_result"
    }
   ],
   "source": [
    "df.Price.value_counts()"
   ]
  },
  {
   "cell_type": "code",
   "execution_count": 39,
   "id": "6c57256d",
   "metadata": {},
   "outputs": [
    {
     "data": {
      "text/plain": [
       "0      (2161.5, 170599.0]\n",
       "1      (2161.5, 170599.0]\n",
       "2      (2161.5, 170599.0]\n",
       "3      (2161.5, 170599.0]\n",
       "4      (2161.5, 170599.0]\n",
       "              ...        \n",
       "156      (188.999, 396.5]\n",
       "157        (396.5, 798.5]\n",
       "158      (188.999, 396.5]\n",
       "159      (188.999, 396.5]\n",
       "160      (188.999, 396.5]\n",
       "Name: Price, Length: 160, dtype: category\n",
       "Categories (4, interval[float64]): [(188.999, 396.5] < (396.5, 798.5] < (798.5, 2161.5] < (2161.5, 170599.0]]"
      ]
     },
     "execution_count": 39,
     "metadata": {},
     "output_type": "execute_result"
    }
   ],
   "source": [
    "pd.qcut(df['Price'], q=4)"
   ]
  },
  {
   "cell_type": "code",
   "execution_count": 43,
   "id": "00d9e410",
   "metadata": {},
   "outputs": [],
   "source": [
    "Price_labels= [\"very_low\", \"low\", \"medium\", \"high\", \"very_high\" ]\n",
    "df[\"Price Categories\"] = pd.qcut(df[\"Price\"], q=[0.0, 0.25, 0.5, 0.75, 0.95, 1], labels=Price_labels)"
   ]
  },
  {
   "cell_type": "code",
   "execution_count": 44,
   "id": "ec4ac056",
   "metadata": {},
   "outputs": [
    {
     "data": {
      "text/html": [
       "<div>\n",
       "<style scoped>\n",
       "    .dataframe tbody tr th:only-of-type {\n",
       "        vertical-align: middle;\n",
       "    }\n",
       "\n",
       "    .dataframe tbody tr th {\n",
       "        vertical-align: top;\n",
       "    }\n",
       "\n",
       "    .dataframe thead th {\n",
       "        text-align: right;\n",
       "    }\n",
       "</style>\n",
       "<table border=\"1\" class=\"dataframe\">\n",
       "  <thead>\n",
       "    <tr style=\"text-align: right;\">\n",
       "      <th></th>\n",
       "      <th>Name</th>\n",
       "      <th>Price</th>\n",
       "      <th>categories</th>\n",
       "      <th>feature_of_phone</th>\n",
       "      <th>Discount_Percent</th>\n",
       "      <th>Actual_Price</th>\n",
       "      <th>Price Categories</th>\n",
       "    </tr>\n",
       "  </thead>\n",
       "  <tbody>\n",
       "    <tr>\n",
       "      <th>0</th>\n",
       "      <td>OPPO F19 6 GB 128 GB Prism Black</td>\n",
       "      <td>19490.0</td>\n",
       "      <td>Mobile_phones</td>\n",
       "      <td>6 GB 128 GB Prism</td>\n",
       "      <td>7</td>\n",
       "      <td>20956.99</td>\n",
       "      <td>high</td>\n",
       "    </tr>\n",
       "    <tr>\n",
       "      <th>1</th>\n",
       "      <td>OPPO A54 4 GB 64 GB Crystal Black</td>\n",
       "      <td>14178.0</td>\n",
       "      <td>Mobile_phones</td>\n",
       "      <td>4 GB 64 GB Crystal</td>\n",
       "      <td>5</td>\n",
       "      <td>14924.21</td>\n",
       "      <td>high</td>\n",
       "    </tr>\n",
       "    <tr>\n",
       "      <th>2</th>\n",
       "      <td>Redmi 9 4 GB 64 GB Sky Blue</td>\n",
       "      <td>10449.0</td>\n",
       "      <td>Mobile_phones</td>\n",
       "      <td>4 GB 64 GB Sky</td>\n",
       "      <td>5</td>\n",
       "      <td>10998.95</td>\n",
       "      <td>high</td>\n",
       "    </tr>\n",
       "    <tr>\n",
       "      <th>3</th>\n",
       "      <td>Vivo Y20i 3 GB 64 GB Nebula Blue</td>\n",
       "      <td>11490.0</td>\n",
       "      <td>Mobile_phones</td>\n",
       "      <td>3 GB 64 GB Nebula</td>\n",
       "      <td>26</td>\n",
       "      <td>15527.03</td>\n",
       "      <td>high</td>\n",
       "    </tr>\n",
       "    <tr>\n",
       "      <th>4</th>\n",
       "      <td>OPPO A54 6 GB 128 GB Crystal Black</td>\n",
       "      <td>16990.0</td>\n",
       "      <td>Mobile_phones</td>\n",
       "      <td>6 GB 128 GB Crystal</td>\n",
       "      <td>6</td>\n",
       "      <td>18074.47</td>\n",
       "      <td>high</td>\n",
       "    </tr>\n",
       "  </tbody>\n",
       "</table>\n",
       "</div>"
      ],
      "text/plain": [
       "                                 Name    Price     categories  \\\n",
       "0    OPPO F19 6 GB 128 GB Prism Black  19490.0  Mobile_phones   \n",
       "1   OPPO A54 4 GB 64 GB Crystal Black  14178.0  Mobile_phones   \n",
       "2         Redmi 9 4 GB 64 GB Sky Blue  10449.0  Mobile_phones   \n",
       "3    Vivo Y20i 3 GB 64 GB Nebula Blue  11490.0  Mobile_phones   \n",
       "4  OPPO A54 6 GB 128 GB Crystal Black  16990.0  Mobile_phones   \n",
       "\n",
       "      feature_of_phone  Discount_Percent  Actual_Price Price Categories  \n",
       "0    6 GB 128 GB Prism                 7      20956.99             high  \n",
       "1   4 GB 64 GB Crystal                 5      14924.21             high  \n",
       "2       4 GB 64 GB Sky                 5      10998.95             high  \n",
       "3    3 GB 64 GB Nebula                26      15527.03             high  \n",
       "4  6 GB 128 GB Crystal                 6      18074.47             high  "
      ]
     },
     "execution_count": 44,
     "metadata": {},
     "output_type": "execute_result"
    }
   ],
   "source": [
    "df.head()"
   ]
  },
  {
   "cell_type": "markdown",
   "id": "a1931fa3",
   "metadata": {},
   "source": [
    "## Performing Exploratory Data Analysis to the cleansed Data\n",
    "\n",
    "- Univariate Analysis\n",
    "- Bivariate Analysis\n",
    "- Multi Variate Analysis"
   ]
  },
  {
   "cell_type": "code",
   "execution_count": 49,
   "id": "e47ecc38",
   "metadata": {},
   "outputs": [
    {
     "data": {
      "text/plain": [
       "<Figure size 792x576 with 0 Axes>"
      ]
     },
     "execution_count": 49,
     "metadata": {},
     "output_type": "execute_result"
    },
    {
     "data": {
      "image/png": "[encoded data removed]",
      "text/plain": [
       "<Figure size 432x288 with 1 Axes>"
      ]
     },
     "metadata": {
      "needs_background": "light"
     },
     "output_type": "display_data"
    },
    {
     "data": {
      "text/plain": [
       "<Figure size 792x576 with 0 Axes>"
      ]
     },
     "metadata": {},
     "output_type": "display_data"
    }
   ],
   "source": [
    "df[\"Discount_Percent\"].groupby(df.categories).mean().plot.barh()\n",
    "plt.grid()\n",
    "plt.figure(figsize=(11,8))"
   ]
  },
  {
   "cell_type": "markdown",
   "id": "44cf3243",
   "metadata": {},
   "source": [
    "- We can clearly see that the Mobile Phones have the least discount Percentage in Headphones There may be trend of new phones not adding earphones in the package we can clearly see that headphones has the most discount Percentage"
   ]
  },
  {
   "cell_type": "code",
   "execution_count": 59,
   "id": "6d488a40",
   "metadata": {},
   "outputs": [
    {
     "data": {
      "image/png": "[encoded data removed]",
      "text/plain": [
       "<Figure size 1440x792 with 2 Axes>"
      ]
     },
     "metadata": {
      "needs_background": "light"
     },
     "output_type": "display_data"
    }
   ],
   "source": [
    "plt.figure(figsize=(20,11))\n",
    "\n",
    "plt.subplot(1,2,1)\n",
    "sns.barplot(x=df[\"Price Categories\"], y=df[\"Discount_Percent\"])\n",
    "plt.subplot(1,2,2)\n",
    "sns.scatterplot(x=df[\"Actual_Price\"], y= df[\"Discount_Percent\"])\n",
    "plt.grid()\n"
   ]
  },
  {
   "cell_type": "code",
   "execution_count": null,
   "id": "ee45db6b",
   "metadata": {},
   "outputs": [],
   "source": []
  },
  {
   "cell_type": "markdown",
   "id": "d7ce4613",
   "metadata": {},
   "source": [
    "- Here we can see as the price increases the Discount Percent decreases Most of the discounts are in Actual_Price range of 0-25,000"
   ]
  },
  {
   "cell_type": "code",
   "execution_count": 60,
   "id": "2fa2624d",
   "metadata": {},
   "outputs": [
    {
     "data": {
      "text/plain": [
       "count       160.000000\n",
       "mean       6197.206250\n",
       "std       17081.769628\n",
       "min         189.000000\n",
       "25%         396.500000\n",
       "50%         798.500000\n",
       "75%        2161.500000\n",
       "max      170599.000000\n",
       "Name: Price, dtype: float64"
      ]
     },
     "execution_count": 60,
     "metadata": {},
     "output_type": "execute_result"
    }
   ],
   "source": [
    "df[\"Price\"].describe()"
   ]
  },
  {
   "cell_type": "code",
   "execution_count": 61,
   "id": "e2674e9e",
   "metadata": {},
   "outputs": [
    {
     "data": {
      "text/plain": [
       "<AxesSubplot:ylabel='categories'>"
      ]
     },
     "execution_count": 61,
     "metadata": {},
     "output_type": "execute_result"
    },
    {
     "data": {
      "image/png": "[encoded data removed]",
      "text/plain": [
       "<Figure size 432x288 with 1 Axes>"
      ]
     },
     "metadata": {
      "needs_background": "light"
     },
     "output_type": "display_data"
    }
   ],
   "source": [
    "df[\"Price\"].groupby(df.categories).mean().plot.barh()"
   ]
  },
  {
   "cell_type": "code",
   "execution_count": 69,
   "id": "630baff6",
   "metadata": {},
   "outputs": [
    {
     "data": {
      "text/plain": [
       "([0, 1, 2, 3, 4],\n",
       " [Text(0, 0, ''),\n",
       "  Text(0, 0, ''),\n",
       "  Text(0, 0, ''),\n",
       "  Text(0, 0, ''),\n",
       "  Text(0, 0, '')])"
      ]
     },
     "execution_count": 69,
     "metadata": {},
     "output_type": "execute_result"
    },
    {
     "data": {
      "image/png": "[encoded data removed]",
      "text/plain": [
       "<Figure size 432x288 with 1 Axes>"
      ]
     },
     "metadata": {
      "needs_background": "light"
     },
     "output_type": "display_data"
    }
   ],
   "source": [
    "sns.lineplot(x=df.categories, y= df.Price)\n",
    "plt.xticks(rotation=90)"
   ]
  },
  {
   "cell_type": "code",
   "execution_count": 91,
   "id": "d6359338",
   "metadata": {},
   "outputs": [
    {
     "data": {
      "text/html": [
       "<div>\n",
       "<style scoped>\n",
       "    .dataframe tbody tr th:only-of-type {\n",
       "        vertical-align: middle;\n",
       "    }\n",
       "\n",
       "    .dataframe tbody tr th {\n",
       "        vertical-align: top;\n",
       "    }\n",
       "\n",
       "    .dataframe thead tr th {\n",
       "        text-align: left;\n",
       "    }\n",
       "\n",
       "    .dataframe thead tr:last-of-type th {\n",
       "        text-align: right;\n",
       "    }\n",
       "</style>\n",
       "<table border=\"1\" class=\"dataframe\">\n",
       "  <thead>\n",
       "    <tr>\n",
       "      <th></th>\n",
       "      <th colspan=\"5\" halign=\"left\">Discount_Percent</th>\n",
       "    </tr>\n",
       "    <tr>\n",
       "      <th>Price Categories</th>\n",
       "      <th>very_low</th>\n",
       "      <th>low</th>\n",
       "      <th>medium</th>\n",
       "      <th>high</th>\n",
       "      <th>very_high</th>\n",
       "    </tr>\n",
       "    <tr>\n",
       "      <th>categories</th>\n",
       "      <th></th>\n",
       "      <th></th>\n",
       "      <th></th>\n",
       "      <th></th>\n",
       "      <th></th>\n",
       "    </tr>\n",
       "  </thead>\n",
       "  <tbody>\n",
       "    <tr>\n",
       "      <th>Computer_Accesories</th>\n",
       "      <td>57.090909</td>\n",
       "      <td>45.222222</td>\n",
       "      <td>25.100000</td>\n",
       "      <td>43.50</td>\n",
       "      <td>NaN</td>\n",
       "    </tr>\n",
       "    <tr>\n",
       "      <th>Electronic_Accesories</th>\n",
       "      <td>61.368421</td>\n",
       "      <td>58.200000</td>\n",
       "      <td>20.000000</td>\n",
       "      <td>54.00</td>\n",
       "      <td>2.000000</td>\n",
       "    </tr>\n",
       "    <tr>\n",
       "      <th>Headphones</th>\n",
       "      <td>54.500000</td>\n",
       "      <td>56.583333</td>\n",
       "      <td>64.166667</td>\n",
       "      <td>48.00</td>\n",
       "      <td>NaN</td>\n",
       "    </tr>\n",
       "    <tr>\n",
       "      <th>Mobile_phones</th>\n",
       "      <td>NaN</td>\n",
       "      <td>NaN</td>\n",
       "      <td>NaN</td>\n",
       "      <td>11.92</td>\n",
       "      <td>7.857143</td>\n",
       "    </tr>\n",
       "    <tr>\n",
       "      <th>grooming_accesories</th>\n",
       "      <td>75.000000</td>\n",
       "      <td>38.666667</td>\n",
       "      <td>19.588235</td>\n",
       "      <td>11.50</td>\n",
       "      <td>NaN</td>\n",
       "    </tr>\n",
       "  </tbody>\n",
       "</table>\n",
       "</div>"
      ],
      "text/plain": [
       "                      Discount_Percent                                       \n",
       "Price Categories              very_low        low     medium   high very_high\n",
       "categories                                                                   \n",
       "Computer_Accesories          57.090909  45.222222  25.100000  43.50       NaN\n",
       "Electronic_Accesories        61.368421  58.200000  20.000000  54.00  2.000000\n",
       "Headphones                   54.500000  56.583333  64.166667  48.00       NaN\n",
       "Mobile_phones                      NaN        NaN        NaN  11.92  7.857143\n",
       "grooming_accesories          75.000000  38.666667  19.588235  11.50       NaN"
      ]
     },
     "execution_count": 91,
     "metadata": {},
     "output_type": "execute_result"
    }
   ],
   "source": [
    "res= pd.pivot_table(data= df, index= \"categories\", columns=[\"Price Categories\"], values=[\"Discount_Percent\"])\n",
    "res\n"
   ]
  },
  {
   "cell_type": "raw",
   "id": "f261dc87",
   "metadata": {},
   "source": []
  },
  {
   "cell_type": "code",
   "execution_count": 92,
   "id": "1ef19a6e",
   "metadata": {},
   "outputs": [
    {
     "data": {
      "text/plain": [
       "Text(0.5, 1.0, 'Multivariate_analysis of Electronic categories and Price Categories\\n')"
      ]
     },
     "execution_count": 92,
     "metadata": {},
     "output_type": "execute_result"
    },
    {
     "data": {
      "image/png": "[encoded data removed]",
      "text/plain": [
       "<Figure size 432x288 with 2 Axes>"
      ]
     },
     "metadata": {
      "needs_background": "light"
     },
     "output_type": "display_data"
    }
   ],
   "source": [
    "sns.heatmap(res, cmap=\"YlGnBu\", annot=True)\n",
    "plt.title(\"Multivariate_analysis of Electronic categories and Price Categories\\n\")"
   ]
  },
  {
   "cell_type": "markdown",
   "id": "3f16e3d8",
   "metadata": {},
   "source": [
    "### Summary of Analysis\n",
    "- We can see the Discount percentage decreases with the increase in the Price\n",
    "- We can see the Phones have the lowest discount Percentage\n",
    "- We can see that the Phones have the lowest discount rates\n",
    "- We can see that Headphones have the highest discount rates and the price vary from (very low to high)\n",
    "- Mobile phones are not reasonable as comapred to other electronics and there discounts are low, but few electronic accesories have the least discount percentages\n",
    "- Electronic accesories have a wide market cap they are available in very low price and the have very high pricing. They also provide the wide range of discounts too"
   ]
  },
  {
   "cell_type": "code",
   "execution_count": null,
   "id": "93098ca0",
   "metadata": {},
   "outputs": [],
   "source": [
    "\n",
    "    "
   ]
  },
  {
   "cell_type": "code",
   "execution_count": null,
   "id": "aefb6d12",
   "metadata": {},
   "outputs": [],
   "source": []
  }
 ],
 "metadata": {
  "kernelspec": {
   "display_name": "Python 3",
   "language": "python",
   "name": "python3"
  },
  "language_info": {
   "codemirror_mode": {
    "name": "ipython",
    "version": 3
   },
   "file_extension": ".py",
   "mimetype": "text/x-python",
   "name": "python",
   "nbconvert_exporter": "python",
   "pygments_lexer": "ipython3",
   "version": "3.8.8"
  }
 },
 "nbformat": 4,
 "nbformat_minor": 5
}
